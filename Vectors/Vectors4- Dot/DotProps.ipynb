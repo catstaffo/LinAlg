{
 "cells": [
  {
   "cell_type": "code",
   "execution_count": 1,
   "id": "4d81f39f-88e8-419f-8ef6-b638d6613899",
   "metadata": {},
   "outputs": [],
   "source": [
    "import numpy as np"
   ]
  },
  {
   "cell_type": "code",
   "execution_count": 2,
   "id": "9af60dec-7695-43c4-b7a4-7c29ab952ff8",
   "metadata": {},
   "outputs": [
    {
     "name": "stdout",
     "output_type": "stream",
     "text": [
      "[-5.261350367338712, -5.2613503673387125]\n"
     ]
    }
   ],
   "source": [
    "## distributive property\n",
    "n = 10\n",
    "a = np.random.randn(n)\n",
    "b = np.random.randn(n)\n",
    "c = np.random.randn(n)\n",
    "\n",
    "res1 = np.dot(a, (b+c))\n",
    "res2 = np.dot(a,b) + np.dot(a,c)\n",
    "\n",
    "print([res1,res2])"
   ]
  },
  {
   "cell_type": "code",
   "execution_count": 3,
   "id": "94aa4c9c-dc72-4a8e-acbc-8addf3ec00f4",
   "metadata": {},
   "outputs": [
    {
     "name": "stdout",
     "output_type": "stream",
     "text": [
      "[-0.12634781  0.06607088 -0.08919564 -0.08927079  0.0975874   0.01043701\n",
      "  0.13837572 -0.07392272  0.05673418  0.02817137]\n",
      "[-0.60779561 -0.0047442  -0.17710517  0.78337574  0.32458288 -0.08969813\n",
      "  0.5972062   0.08294673 -0.27248275  0.31453102]\n"
     ]
    }
   ],
   "source": [
    "## associative property\n",
    "n = 10\n",
    "a = np.random.randn(n)\n",
    "b = np.random.randn(n)\n",
    "c = np.random.randn(n)\n",
    "\n",
    "res1 = np.dot(a,np.dot(b,c))\n",
    "res2 = np.dot(np.dot(a,b),c)\n",
    "\n",
    "print(res1)\n",
    "print(res2)"
   ]
  },
  {
   "cell_type": "code",
   "execution_count": null,
   "id": "f8f85bec-8e69-465b-850c-dea41e3ea2e0",
   "metadata": {},
   "outputs": [],
   "source": []
  }
 ],
 "metadata": {
  "kernelspec": {
   "display_name": "Python 3 (ipykernel)",
   "language": "python",
   "name": "python3"
  },
  "language_info": {
   "codemirror_mode": {
    "name": "ipython",
    "version": 3
   },
   "file_extension": ".py",
   "mimetype": "text/x-python",
   "name": "python",
   "nbconvert_exporter": "python",
   "pygments_lexer": "ipython3",
   "version": "3.8.13"
  },
  "widgets": {
   "application/vnd.jupyter.widget-state+json": {
    "state": {},
    "version_major": 2,
    "version_minor": 0
   }
  }
 },
 "nbformat": 4,
 "nbformat_minor": 5
}

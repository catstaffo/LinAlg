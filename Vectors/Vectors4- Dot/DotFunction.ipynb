{
 "cells": [
  {
   "cell_type": "code",
   "execution_count": 1,
   "id": "4d81f39f-88e8-419f-8ef6-b638d6613899",
   "metadata": {},
   "outputs": [],
   "source": [
    "import numpy as np"
   ]
  },
  {
   "cell_type": "code",
   "execution_count": 2,
   "id": "9af60dec-7695-43c4-b7a4-7c29ab952ff8",
   "metadata": {},
   "outputs": [
    {
     "name": "stdout",
     "output_type": "stream",
     "text": [
      "56 91 56 56\n"
     ]
    }
   ],
   "source": [
    "## ways to compute dot product in python\n",
    "v1 = np.array([1, 2, 3, 4, 5, 6])\n",
    "v2 = np.array([0, -4, -3, 6, 5, 4])\n",
    "\n",
    "# method 1\n",
    "dp1 = sum(np.multiply(v1,v2))\n",
    "\n",
    "# method 2 love this\n",
    "dp2 = np.dot(v1,v1)\n",
    "\n",
    "# method 3\n",
    "dp3 = np.matmul(v1,v2)\n",
    "\n",
    "# method 4 lol overkill\n",
    "dp4 = 0\n",
    "\n",
    "for i in range(0,len(v1)):\n",
    "    dp4 = dp4 + v1[i]*v2[i]\n",
    "    \n",
    "print(dp1,dp2,dp3,dp4)"
   ]
  },
  {
   "cell_type": "code",
   "execution_count": null,
   "id": "f8f85bec-8e69-465b-850c-dea41e3ea2e0",
   "metadata": {},
   "outputs": [],
   "source": []
  },
  {
   "cell_type": "code",
   "execution_count": null,
   "id": "8faab6ed-addc-4d26-8d7e-2be3ded20139",
   "metadata": {},
   "outputs": [],
   "source": []
  }
 ],
 "metadata": {
  "kernelspec": {
   "display_name": "Python 3 (ipykernel)",
   "language": "python",
   "name": "python3"
  },
  "language_info": {
   "codemirror_mode": {
    "name": "ipython",
    "version": 3
   },
   "file_extension": ".py",
   "mimetype": "text/x-python",
   "name": "python",
   "nbconvert_exporter": "python",
   "pygments_lexer": "ipython3",
   "version": "3.8.13"
  },
  "widgets": {
   "application/vnd.jupyter.widget-state+json": {
    "state": {},
    "version_major": 2,
    "version_minor": 0
   }
  }
 },
 "nbformat": 4,
 "nbformat_minor": 5
}

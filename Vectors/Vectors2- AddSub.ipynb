{
 "cells": [
  {
   "cell_type": "code",
   "execution_count": 1,
   "id": "76c71473-35d3-44d0-b8bb-44728a78de4d",
   "metadata": {},
   "outputs": [],
   "source": [
    "import numpy as np\n",
    "import matplotlib.pyplot as plt\n",
    "from mpl_toolkits.mplot3d import Axes3D"
   ]
  },
  {
   "cell_type": "code",
   "execution_count": 3,
   "id": "a4781c23-4e7f-4aec-8f8f-5ea6989f2093",
   "metadata": {},
   "outputs": [
    {
     "data": {
      "image/png": "[encoded data removed]",
      "text/plain": [
       "<Figure size 432x288 with 1 Axes>"
      ]
     },
     "metadata": {
      "needs_background": "light"
     },
     "output_type": "display_data"
    }
   ],
   "source": [
    "# two vectors in R2\n",
    "v1 = np.array([ 3, -1 ])\n",
    "v2 = np.array([ 2, 4 ])\n",
    "# np.array type is necessary here because a list would\n",
    "# *concactenate* v3, not do element addition\n",
    "# add/sub only defined for vectors of same dimensionality\n",
    "\n",
    "\n",
    "v3 = v1 + v2\n",
    "\n",
    "# plot them\n",
    "plt.plot([0, v1[0]], [0, v1[1]], 'b', label = 'v1')\n",
    "plt.plot([0, v2[0]]+v1[0], [0, v2[1]]+v1[1], 'r', label = 'v2')\n",
    "plt.plot([0, v3[0]], [0, v3[1]], 'k', label = 'v1 + v2')\n",
    "\n",
    "plt.legend()\n",
    "plt.axis('square')\n",
    "plt.axis((-6, 6, -6, 6))\n",
    "plt.grid()\n",
    "plt.show()\n"
   ]
  },
  {
   "cell_type": "code",
   "execution_count": null,
   "id": "62b19ae0-58f3-47e5-9344-6a08823f64e6",
   "metadata": {},
   "outputs": [],
   "source": []
  }
 ],
 "metadata": {
  "kernelspec": {
   "display_name": "Python 3 (ipykernel)",
   "language": "python",
   "name": "python3"
  },
  "language_info": {
   "codemirror_mode": {
    "name": "ipython",
    "version": 3
   },
   "file_extension": ".py",
   "mimetype": "text/x-python",
   "name": "python",
   "nbconvert_exporter": "python",
   "pygments_lexer": "ipython3",
   "version": "3.8.13"
  },
  "widgets": {
   "application/vnd.jupyter.widget-state+json": {
    "state": {},
    "version_major": 2,
    "version_minor": 0
   }
  }
 },
 "nbformat": 4,
 "nbformat_minor": 5
}

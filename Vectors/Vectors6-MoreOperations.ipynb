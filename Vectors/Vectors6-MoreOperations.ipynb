{
 "cells": [
  {
   "cell_type": "code",
   "execution_count": 1,
   "id": "b752e6a3-5bc5-4516-b04a-a128dbfd6c88",
   "metadata": {},
   "outputs": [],
   "source": [
    "import numpy as np\n",
    "from mpl_toolkits import mplot3d\n",
    "import matplotlib.pyplot as plt"
   ]
  },
  {
   "cell_type": "code",
   "execution_count": 2,
   "id": "a70a5488-8173-4387-9fed-32a0738cc548",
   "metadata": {},
   "outputs": [
    {
     "name": "stdout",
     "output_type": "stream",
     "text": [
      "[ 3  8 15]\n"
     ]
    }
   ],
   "source": [
    "# hadamard multiplication is: Element-Wise multiplication\n",
    "# only valid for two vectors with same number of elements\n",
    "v1 = [1, 2, 3]\n",
    "v2 = [3, 4, 5]\n",
    "v3 = np.multiply(v1,v2)\n",
    "print(v3)"
   ]
  },
  {
   "cell_type": "code",
   "execution_count": 3,
   "id": "8296753a-663a-4207-acc2-0e19f1c1df9a",
   "metadata": {},
   "outputs": [
    {
     "name": "stdout",
     "output_type": "stream",
     "text": [
      "[[ 3  4  5]\n",
      " [ 6  8 10]\n",
      " [ 9 12 15]]\n"
     ]
    }
   ],
   "source": [
    "# outer product w/ vectors\n",
    "\n",
    "op = np.outer(v1, v2)\n",
    "print(op)"
   ]
  },
  {
   "cell_type": "code",
   "execution_count": 4,
   "id": "65ec146e-4352-475a-a0b8-b4702c238b48",
   "metadata": {},
   "outputs": [
    {
     "name": "stdout",
     "output_type": "stream",
     "text": [
      "[-2  4 -2]\n"
     ]
    }
   ],
   "source": [
    "# cross product w/ vectors\n",
    "# defined only for two 3d vectors\n",
    "# result is a 3d vector\n",
    "\n",
    "cp = np.cross(v1, v2)\n",
    "print(cp)"
   ]
  },
  {
   "cell_type": "code",
   "execution_count": null,
   "id": "44e38937-4047-403a-aa3a-410f3de3f2f6",
   "metadata": {},
   "outputs": [],
   "source": [
    "# complex #\n",
    "z = np.complex(3,4)\n",
    "\n",
    "# magnitude\n",
    "print(np.linalg.norm(z))\n",
    "\n",
    "# transpose\n",
    "print(np.transpose(z)*z)\n",
    "\n",
    "# hermitian transpose\n",
    "print(np.transpose(z.conjugate())*z)\n",
    "\n",
    "# complex vector\n",
    "v = np.array([3,4j,5+2j,2-5j])\n",
    "print(v.T)\n",
    "print(np.transpose(v))\n",
    "print(np.transpose(v.conjugate()))\n",
    "\n",
    " "
   ]
  }
 ],
 "metadata": {
  "kernelspec": {
   "display_name": "Python 3 (ipykernel)",
   "language": "python",
   "name": "python3"
  },
  "language_info": {
   "codemirror_mode": {
    "name": "ipython",
    "version": 3
   },
   "file_extension": ".py",
   "mimetype": "text/x-python",
   "name": "python",
   "nbconvert_exporter": "python",
   "pygments_lexer": "ipython3",
   "version": "3.8.13"
  },
  "widgets": {
   "application/vnd.jupyter.widget-state+json": {
    "state": {},
    "version_major": 2,
    "version_minor": 0
   }
  }
 },
 "nbformat": 4,
 "nbformat_minor": 5
}
